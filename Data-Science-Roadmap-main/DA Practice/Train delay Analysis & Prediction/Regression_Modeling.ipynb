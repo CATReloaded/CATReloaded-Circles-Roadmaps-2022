{
 "cells": [
  {
   "cell_type": "code",
   "execution_count": 1,
   "metadata": {
    "id": "iNsDXHUpS0bb"
   },
   "outputs": [],
   "source": [
    "# For Loading and Manipulating data\n",
    "import pandas as pd\n",
    "import numpy as np\n",
    "\n",
    "# To display all the columns and the rows ( regardless of their number or their width )\n",
    "pd.set_option('display.max_rows', None)\n",
    "pd.set_option('display.max_columns', None)\n",
    "pd.set_option('display.max_colwidth', None)\n",
    "\n",
    "# For splitting, encoding and scaling the data respectively\n",
    "from sklearn.model_selection import train_test_split\n",
    "from category_encoders import MEstimateEncoder\n",
    "\n",
    "# Models\n",
    "from sklearn.ensemble import VotingRegressor, StackingRegressor\n",
    "from sklearn.linear_model import LinearRegression\n",
    "from sklearn.neighbors import KNeighborsRegressor\n",
    "from sklearn.tree import DecisionTreeRegressor\n",
    "from sklearn.ensemble import RandomForestRegressor\n",
    "from sklearn.svm import SVR\n",
    "from xgboost import XGBRegressor\n",
    "from lightgbm import LGBMRegressor\n",
    "\n",
    "# For visualization purposes\n",
    "import matplotlib.pyplot as plt\n",
    "import seaborn as sns\n",
    "\n",
    "## Metrics\n",
    "from sklearn.metrics import mean_squared_error, mean_absolute_error\n",
    "from sklearn.metrics import  r2_score\n",
    "from time import time\n",
    "\n",
    "%matplotlib inline\n",
    "\n",
    "# To change the style of the plots ( so that we all can see the same thing :) )\n",
    "plt.style.use('seaborn')\n",
    "\n",
    "# To remove annoying warnings\n",
    "import warnings\n",
    "warnings.filterwarnings('ignore')"
   ]
  },
  {
   "cell_type": "code",
   "execution_count": 2,
   "metadata": {
    "id": "_ayTa0vGS0bg"
   },
   "outputs": [],
   "source": [
    "df = pd.read_csv('cleanest.csv')"
   ]
  },
  {
   "cell_type": "code",
   "execution_count": 3,
   "metadata": {
    "colab": {
     "base_uri": "https://localhost:8080/",
     "height": 215
    },
    "id": "cvuUoICAS0bl",
    "outputId": "2cc873ab-c560-4c75-dac6-26d5709c3e0c"
   },
   "outputs": [
    {
     "data": {
      "text/html": [
       "<div>\n",
       "<style scoped>\n",
       "    .dataframe tbody tr th:only-of-type {\n",
       "        vertical-align: middle;\n",
       "    }\n",
       "\n",
       "    .dataframe tbody tr th {\n",
       "        vertical-align: top;\n",
       "    }\n",
       "\n",
       "    .dataframe thead th {\n",
       "        text-align: right;\n",
       "    }\n",
       "</style>\n",
       "<table border=\"1\" class=\"dataframe\">\n",
       "  <thead>\n",
       "    <tr style=\"text-align: right;\">\n",
       "      <th></th>\n",
       "      <th>Train</th>\n",
       "      <th>Departure_delay</th>\n",
       "      <th>Motifs</th>\n",
       "      <th>Arrival_delay</th>\n",
       "      <th>Holiday</th>\n",
       "      <th>Code_cir</th>\n",
       "      <th>Direction</th>\n",
       "      <th>Weekday_sin</th>\n",
       "      <th>Weekday_cos</th>\n",
       "      <th>Month_sin</th>\n",
       "      <th>Month_cos</th>\n",
       "      <th>Season_sin</th>\n",
       "      <th>Season_cos</th>\n",
       "      <th>Destination_Len</th>\n",
       "      <th>Nbr_Stops</th>\n",
       "      <th>dist_bet_Stops</th>\n",
       "    </tr>\n",
       "  </thead>\n",
       "  <tbody>\n",
       "    <tr>\n",
       "      <th>0</th>\n",
       "      <td>803</td>\n",
       "      <td>0.0</td>\n",
       "      <td>Unknown</td>\n",
       "      <td>0.0</td>\n",
       "      <td>0</td>\n",
       "      <td>1.0</td>\n",
       "      <td>0</td>\n",
       "      <td>0.0</td>\n",
       "      <td>1.0</td>\n",
       "      <td>0.0</td>\n",
       "      <td>1.0</td>\n",
       "      <td>0.0</td>\n",
       "      <td>1.0</td>\n",
       "      <td>76.3</td>\n",
       "      <td>26.0</td>\n",
       "      <td>2.934615</td>\n",
       "    </tr>\n",
       "    <tr>\n",
       "      <th>1</th>\n",
       "      <td>805</td>\n",
       "      <td>5.0</td>\n",
       "      <td>Att rame</td>\n",
       "      <td>2.0</td>\n",
       "      <td>0</td>\n",
       "      <td>1.0</td>\n",
       "      <td>0</td>\n",
       "      <td>0.0</td>\n",
       "      <td>1.0</td>\n",
       "      <td>0.0</td>\n",
       "      <td>1.0</td>\n",
       "      <td>0.0</td>\n",
       "      <td>1.0</td>\n",
       "      <td>76.3</td>\n",
       "      <td>26.0</td>\n",
       "      <td>2.934615</td>\n",
       "    </tr>\n",
       "    <tr>\n",
       "      <th>2</th>\n",
       "      <td>807</td>\n",
       "      <td>0.0</td>\n",
       "      <td>Unknown</td>\n",
       "      <td>8.0</td>\n",
       "      <td>0</td>\n",
       "      <td>1.0</td>\n",
       "      <td>0</td>\n",
       "      <td>0.0</td>\n",
       "      <td>1.0</td>\n",
       "      <td>0.0</td>\n",
       "      <td>1.0</td>\n",
       "      <td>0.0</td>\n",
       "      <td>1.0</td>\n",
       "      <td>76.3</td>\n",
       "      <td>26.0</td>\n",
       "      <td>2.934615</td>\n",
       "    </tr>\n",
       "    <tr>\n",
       "      <th>3</th>\n",
       "      <td>809</td>\n",
       "      <td>25.0</td>\n",
       "      <td>Att rame</td>\n",
       "      <td>19.0</td>\n",
       "      <td>0</td>\n",
       "      <td>1.0</td>\n",
       "      <td>0</td>\n",
       "      <td>0.0</td>\n",
       "      <td>1.0</td>\n",
       "      <td>0.0</td>\n",
       "      <td>1.0</td>\n",
       "      <td>0.0</td>\n",
       "      <td>1.0</td>\n",
       "      <td>76.3</td>\n",
       "      <td>26.0</td>\n",
       "      <td>2.934615</td>\n",
       "    </tr>\n",
       "    <tr>\n",
       "      <th>4</th>\n",
       "      <td>811</td>\n",
       "      <td>0.0</td>\n",
       "      <td>Unknown</td>\n",
       "      <td>3.0</td>\n",
       "      <td>0</td>\n",
       "      <td>1.0</td>\n",
       "      <td>0</td>\n",
       "      <td>0.0</td>\n",
       "      <td>1.0</td>\n",
       "      <td>0.0</td>\n",
       "      <td>1.0</td>\n",
       "      <td>0.0</td>\n",
       "      <td>1.0</td>\n",
       "      <td>76.3</td>\n",
       "      <td>26.0</td>\n",
       "      <td>2.934615</td>\n",
       "    </tr>\n",
       "  </tbody>\n",
       "</table>\n",
       "</div>"
      ],
      "text/plain": [
       "  Train  Departure_delay    Motifs  Arrival_delay  Holiday  Code_cir  \\\n",
       "0   803              0.0   Unknown            0.0        0       1.0   \n",
       "1   805              5.0  Att rame            2.0        0       1.0   \n",
       "2   807              0.0   Unknown            8.0        0       1.0   \n",
       "3   809             25.0  Att rame           19.0        0       1.0   \n",
       "4   811              0.0   Unknown            3.0        0       1.0   \n",
       "\n",
       "   Direction  Weekday_sin  Weekday_cos  Month_sin  Month_cos  Season_sin  \\\n",
       "0          0          0.0          1.0        0.0        1.0         0.0   \n",
       "1          0          0.0          1.0        0.0        1.0         0.0   \n",
       "2          0          0.0          1.0        0.0        1.0         0.0   \n",
       "3          0          0.0          1.0        0.0        1.0         0.0   \n",
       "4          0          0.0          1.0        0.0        1.0         0.0   \n",
       "\n",
       "   Season_cos  Destination_Len  Nbr_Stops  dist_bet_Stops  \n",
       "0         1.0             76.3       26.0        2.934615  \n",
       "1         1.0             76.3       26.0        2.934615  \n",
       "2         1.0             76.3       26.0        2.934615  \n",
       "3         1.0             76.3       26.0        2.934615  \n",
       "4         1.0             76.3       26.0        2.934615  "
      ]
     },
     "execution_count": 3,
     "metadata": {},
     "output_type": "execute_result"
    }
   ],
   "source": [
    "df.head()"
   ]
  },
  {
   "cell_type": "markdown",
   "metadata": {
    "id": "67aF4981S0bn"
   },
   "source": [
    "#### 1- First let's split the feature ( X ) from the target ( Y )"
   ]
  },
  {
   "cell_type": "code",
   "execution_count": 4,
   "metadata": {
    "id": "Qu3Hq0gqS0bo"
   },
   "outputs": [],
   "source": [
    "x = df.drop(columns=['Arrival_delay'])\n",
    "y = df['Arrival_delay']"
   ]
  },
  {
   "cell_type": "code",
   "execution_count": 5,
   "metadata": {
    "colab": {
     "base_uri": "https://localhost:8080/"
    },
    "id": "W6es-J7mS0bo",
    "outputId": "56747303-1b10-455b-e3fe-1f6deb8c62d7"
   },
   "outputs": [
    {
     "data": {
      "text/plain": [
       "((9562, 16), (9562, 15), (9562,))"
      ]
     },
     "execution_count": 5,
     "metadata": {},
     "output_type": "execute_result"
    }
   ],
   "source": [
    "df.shape, x.shape, y.shape"
   ]
  },
  {
   "cell_type": "markdown",
   "metadata": {
    "id": "BA32L_PXS0bq"
   },
   "source": [
    "#### 2- Splitting the data to training and testing sets"
   ]
  },
  {
   "cell_type": "code",
   "execution_count": 6,
   "metadata": {
    "id": "6tBywb6dS0br"
   },
   "outputs": [],
   "source": [
    "x_train, x_test, y_train, y_test = train_test_split(x, y, test_size=0.2)"
   ]
  },
  {
   "cell_type": "code",
   "execution_count": 7,
   "metadata": {
    "colab": {
     "base_uri": "https://localhost:8080/"
    },
    "id": "0ymPoZX-S0bs",
    "outputId": "9be38cda-2d1a-49c8-c05a-9fd8c7e14e42"
   },
   "outputs": [
    {
     "data": {
      "text/plain": [
       "((7649, 15), (7649,), (1913, 15), (1913,))"
      ]
     },
     "execution_count": 7,
     "metadata": {},
     "output_type": "execute_result"
    }
   ],
   "source": [
    "x_train.shape, y_train.shape, x_test.shape, y_test.shape"
   ]
  },
  {
   "cell_type": "code",
   "execution_count": 8,
   "metadata": {
    "colab": {
     "base_uri": "https://localhost:8080/",
     "height": 215
    },
    "id": "dr_UjdAOS0bt",
    "outputId": "87757539-ae2f-4f64-bc48-6bc82eb9ec6a"
   },
   "outputs": [
    {
     "data": {
      "text/html": [
       "<div>\n",
       "<style scoped>\n",
       "    .dataframe tbody tr th:only-of-type {\n",
       "        vertical-align: middle;\n",
       "    }\n",
       "\n",
       "    .dataframe tbody tr th {\n",
       "        vertical-align: top;\n",
       "    }\n",
       "\n",
       "    .dataframe thead th {\n",
       "        text-align: right;\n",
       "    }\n",
       "</style>\n",
       "<table border=\"1\" class=\"dataframe\">\n",
       "  <thead>\n",
       "    <tr style=\"text-align: right;\">\n",
       "      <th></th>\n",
       "      <th>Train</th>\n",
       "      <th>Departure_delay</th>\n",
       "      <th>Motifs</th>\n",
       "      <th>Holiday</th>\n",
       "      <th>Code_cir</th>\n",
       "      <th>Direction</th>\n",
       "      <th>Weekday_sin</th>\n",
       "      <th>Weekday_cos</th>\n",
       "      <th>Month_sin</th>\n",
       "      <th>Month_cos</th>\n",
       "      <th>Season_sin</th>\n",
       "      <th>Season_cos</th>\n",
       "      <th>Destination_Len</th>\n",
       "      <th>Nbr_Stops</th>\n",
       "      <th>dist_bet_Stops</th>\n",
       "    </tr>\n",
       "  </thead>\n",
       "  <tbody>\n",
       "    <tr>\n",
       "      <th>9179</th>\n",
       "      <td>0512079</td>\n",
       "      <td>22.0</td>\n",
       "      <td>Att rame</td>\n",
       "      <td>1</td>\n",
       "      <td>0.857143</td>\n",
       "      <td>0</td>\n",
       "      <td>0.000000</td>\n",
       "      <td>1.000000</td>\n",
       "      <td>-0.500000</td>\n",
       "      <td>8.660254e-01</td>\n",
       "      <td>0.0</td>\n",
       "      <td>1.000000e+00</td>\n",
       "      <td>162.222</td>\n",
       "      <td>32.0</td>\n",
       "      <td>5.069438</td>\n",
       "    </tr>\n",
       "    <tr>\n",
       "      <th>3915</th>\n",
       "      <td>804</td>\n",
       "      <td>0.0</td>\n",
       "      <td>Unknown</td>\n",
       "      <td>1</td>\n",
       "      <td>1.000000</td>\n",
       "      <td>1</td>\n",
       "      <td>-0.781831</td>\n",
       "      <td>0.623490</td>\n",
       "      <td>0.866025</td>\n",
       "      <td>-5.000000e-01</td>\n",
       "      <td>1.0</td>\n",
       "      <td>6.123234e-17</td>\n",
       "      <td>76.300</td>\n",
       "      <td>26.0</td>\n",
       "      <td>2.934615</td>\n",
       "    </tr>\n",
       "    <tr>\n",
       "      <th>2577</th>\n",
       "      <td>0513055</td>\n",
       "      <td>0.0</td>\n",
       "      <td>Unknown</td>\n",
       "      <td>1</td>\n",
       "      <td>1.000000</td>\n",
       "      <td>0</td>\n",
       "      <td>-0.433884</td>\n",
       "      <td>-0.900969</td>\n",
       "      <td>1.000000</td>\n",
       "      <td>6.123234e-17</td>\n",
       "      <td>1.0</td>\n",
       "      <td>6.123234e-17</td>\n",
       "      <td>269.249</td>\n",
       "      <td>41.0</td>\n",
       "      <td>6.567049</td>\n",
       "    </tr>\n",
       "    <tr>\n",
       "      <th>7653</th>\n",
       "      <td>818</td>\n",
       "      <td>0.0</td>\n",
       "      <td>Unknown</td>\n",
       "      <td>1</td>\n",
       "      <td>0.285714</td>\n",
       "      <td>1</td>\n",
       "      <td>-0.974928</td>\n",
       "      <td>-0.222521</td>\n",
       "      <td>-1.000000</td>\n",
       "      <td>-1.836970e-16</td>\n",
       "      <td>-1.0</td>\n",
       "      <td>-1.836970e-16</td>\n",
       "      <td>76.300</td>\n",
       "      <td>26.0</td>\n",
       "      <td>2.934615</td>\n",
       "    </tr>\n",
       "    <tr>\n",
       "      <th>7167</th>\n",
       "      <td>0005087</td>\n",
       "      <td>0.0</td>\n",
       "      <td>Unknown</td>\n",
       "      <td>1</td>\n",
       "      <td>1.000000</td>\n",
       "      <td>1</td>\n",
       "      <td>0.000000</td>\n",
       "      <td>1.000000</td>\n",
       "      <td>-0.866025</td>\n",
       "      <td>-5.000000e-01</td>\n",
       "      <td>-1.0</td>\n",
       "      <td>-1.836970e-16</td>\n",
       "      <td>269.249</td>\n",
       "      <td>41.0</td>\n",
       "      <td>6.567049</td>\n",
       "    </tr>\n",
       "  </tbody>\n",
       "</table>\n",
       "</div>"
      ],
      "text/plain": [
       "        Train  Departure_delay    Motifs  Holiday  Code_cir  Direction  \\\n",
       "9179  0512079             22.0  Att rame        1  0.857143          0   \n",
       "3915      804              0.0   Unknown        1  1.000000          1   \n",
       "2577  0513055              0.0   Unknown        1  1.000000          0   \n",
       "7653      818              0.0   Unknown        1  0.285714          1   \n",
       "7167  0005087              0.0   Unknown        1  1.000000          1   \n",
       "\n",
       "      Weekday_sin  Weekday_cos  Month_sin     Month_cos  Season_sin  \\\n",
       "9179     0.000000     1.000000  -0.500000  8.660254e-01         0.0   \n",
       "3915    -0.781831     0.623490   0.866025 -5.000000e-01         1.0   \n",
       "2577    -0.433884    -0.900969   1.000000  6.123234e-17         1.0   \n",
       "7653    -0.974928    -0.222521  -1.000000 -1.836970e-16        -1.0   \n",
       "7167     0.000000     1.000000  -0.866025 -5.000000e-01        -1.0   \n",
       "\n",
       "        Season_cos  Destination_Len  Nbr_Stops  dist_bet_Stops  \n",
       "9179  1.000000e+00          162.222       32.0        5.069438  \n",
       "3915  6.123234e-17           76.300       26.0        2.934615  \n",
       "2577  6.123234e-17          269.249       41.0        6.567049  \n",
       "7653 -1.836970e-16           76.300       26.0        2.934615  \n",
       "7167 -1.836970e-16          269.249       41.0        6.567049  "
      ]
     },
     "execution_count": 8,
     "metadata": {},
     "output_type": "execute_result"
    }
   ],
   "source": [
    "x_train.head()"
   ]
  },
  {
   "cell_type": "markdown",
   "metadata": {
    "id": "vfN0Lg4GS0bu"
   },
   "source": [
    "_Target Encoding_"
   ]
  },
  {
   "cell_type": "code",
   "execution_count": 9,
   "metadata": {
    "id": "ak-BDrowS0bv"
   },
   "outputs": [],
   "source": [
    "te = MEstimateEncoder()\n",
    "x_train = te.fit_transform(x_train, y_train)\n",
    "x_test  = te.transform(x_test)"
   ]
  },
  {
   "cell_type": "code",
   "execution_count": 10,
   "metadata": {
    "colab": {
     "base_uri": "https://localhost:8080/",
     "height": 215
    },
    "id": "HnKLbdvaS0bw",
    "outputId": "bb85ff89-2674-4c97-97b0-dda314980393"
   },
   "outputs": [
    {
     "data": {
      "text/html": [
       "<div>\n",
       "<style scoped>\n",
       "    .dataframe tbody tr th:only-of-type {\n",
       "        vertical-align: middle;\n",
       "    }\n",
       "\n",
       "    .dataframe tbody tr th {\n",
       "        vertical-align: top;\n",
       "    }\n",
       "\n",
       "    .dataframe thead th {\n",
       "        text-align: right;\n",
       "    }\n",
       "</style>\n",
       "<table border=\"1\" class=\"dataframe\">\n",
       "  <thead>\n",
       "    <tr style=\"text-align: right;\">\n",
       "      <th></th>\n",
       "      <th>Train</th>\n",
       "      <th>Departure_delay</th>\n",
       "      <th>Motifs</th>\n",
       "      <th>Holiday</th>\n",
       "      <th>Code_cir</th>\n",
       "      <th>Direction</th>\n",
       "      <th>Weekday_sin</th>\n",
       "      <th>Weekday_cos</th>\n",
       "      <th>Month_sin</th>\n",
       "      <th>Month_cos</th>\n",
       "      <th>Season_sin</th>\n",
       "      <th>Season_cos</th>\n",
       "      <th>Destination_Len</th>\n",
       "      <th>Nbr_Stops</th>\n",
       "      <th>dist_bet_Stops</th>\n",
       "    </tr>\n",
       "  </thead>\n",
       "  <tbody>\n",
       "    <tr>\n",
       "      <th>9179</th>\n",
       "      <td>38.752982</td>\n",
       "      <td>22.0</td>\n",
       "      <td>53.33905</td>\n",
       "      <td>1</td>\n",
       "      <td>0.857143</td>\n",
       "      <td>0</td>\n",
       "      <td>0.000000</td>\n",
       "      <td>1.000000</td>\n",
       "      <td>-0.500000</td>\n",
       "      <td>8.660254e-01</td>\n",
       "      <td>0.0</td>\n",
       "      <td>1.000000e+00</td>\n",
       "      <td>162.222</td>\n",
       "      <td>32.0</td>\n",
       "      <td>5.069438</td>\n",
       "    </tr>\n",
       "    <tr>\n",
       "      <th>3915</th>\n",
       "      <td>2.471044</td>\n",
       "      <td>0.0</td>\n",
       "      <td>16.69026</td>\n",
       "      <td>1</td>\n",
       "      <td>1.000000</td>\n",
       "      <td>1</td>\n",
       "      <td>-0.781831</td>\n",
       "      <td>0.623490</td>\n",
       "      <td>0.866025</td>\n",
       "      <td>-5.000000e-01</td>\n",
       "      <td>1.0</td>\n",
       "      <td>6.123234e-17</td>\n",
       "      <td>76.300</td>\n",
       "      <td>26.0</td>\n",
       "      <td>2.934615</td>\n",
       "    </tr>\n",
       "    <tr>\n",
       "      <th>2577</th>\n",
       "      <td>71.378324</td>\n",
       "      <td>0.0</td>\n",
       "      <td>16.69026</td>\n",
       "      <td>1</td>\n",
       "      <td>1.000000</td>\n",
       "      <td>0</td>\n",
       "      <td>-0.433884</td>\n",
       "      <td>-0.900969</td>\n",
       "      <td>1.000000</td>\n",
       "      <td>6.123234e-17</td>\n",
       "      <td>1.0</td>\n",
       "      <td>6.123234e-17</td>\n",
       "      <td>269.249</td>\n",
       "      <td>41.0</td>\n",
       "      <td>6.567049</td>\n",
       "    </tr>\n",
       "    <tr>\n",
       "      <th>7653</th>\n",
       "      <td>11.593571</td>\n",
       "      <td>0.0</td>\n",
       "      <td>16.69026</td>\n",
       "      <td>1</td>\n",
       "      <td>0.285714</td>\n",
       "      <td>1</td>\n",
       "      <td>-0.974928</td>\n",
       "      <td>-0.222521</td>\n",
       "      <td>-1.000000</td>\n",
       "      <td>-1.836970e-16</td>\n",
       "      <td>-1.0</td>\n",
       "      <td>-1.836970e-16</td>\n",
       "      <td>76.300</td>\n",
       "      <td>26.0</td>\n",
       "      <td>2.934615</td>\n",
       "    </tr>\n",
       "    <tr>\n",
       "      <th>7167</th>\n",
       "      <td>58.577327</td>\n",
       "      <td>0.0</td>\n",
       "      <td>16.69026</td>\n",
       "      <td>1</td>\n",
       "      <td>1.000000</td>\n",
       "      <td>1</td>\n",
       "      <td>0.000000</td>\n",
       "      <td>1.000000</td>\n",
       "      <td>-0.866025</td>\n",
       "      <td>-5.000000e-01</td>\n",
       "      <td>-1.0</td>\n",
       "      <td>-1.836970e-16</td>\n",
       "      <td>269.249</td>\n",
       "      <td>41.0</td>\n",
       "      <td>6.567049</td>\n",
       "    </tr>\n",
       "  </tbody>\n",
       "</table>\n",
       "</div>"
      ],
      "text/plain": [
       "          Train  Departure_delay    Motifs  Holiday  Code_cir  Direction  \\\n",
       "9179  38.752982             22.0  53.33905        1  0.857143          0   \n",
       "3915   2.471044              0.0  16.69026        1  1.000000          1   \n",
       "2577  71.378324              0.0  16.69026        1  1.000000          0   \n",
       "7653  11.593571              0.0  16.69026        1  0.285714          1   \n",
       "7167  58.577327              0.0  16.69026        1  1.000000          1   \n",
       "\n",
       "      Weekday_sin  Weekday_cos  Month_sin     Month_cos  Season_sin  \\\n",
       "9179     0.000000     1.000000  -0.500000  8.660254e-01         0.0   \n",
       "3915    -0.781831     0.623490   0.866025 -5.000000e-01         1.0   \n",
       "2577    -0.433884    -0.900969   1.000000  6.123234e-17         1.0   \n",
       "7653    -0.974928    -0.222521  -1.000000 -1.836970e-16        -1.0   \n",
       "7167     0.000000     1.000000  -0.866025 -5.000000e-01        -1.0   \n",
       "\n",
       "        Season_cos  Destination_Len  Nbr_Stops  dist_bet_Stops  \n",
       "9179  1.000000e+00          162.222       32.0        5.069438  \n",
       "3915  6.123234e-17           76.300       26.0        2.934615  \n",
       "2577  6.123234e-17          269.249       41.0        6.567049  \n",
       "7653 -1.836970e-16           76.300       26.0        2.934615  \n",
       "7167 -1.836970e-16          269.249       41.0        6.567049  "
      ]
     },
     "execution_count": 10,
     "metadata": {},
     "output_type": "execute_result"
    }
   ],
   "source": [
    "x_train.head()"
   ]
  },
  {
   "cell_type": "markdown",
   "metadata": {
    "id": "6UTYK9vBS0bw"
   },
   "source": [
    "#### 4- Building our Models"
   ]
  },
  {
   "cell_type": "markdown",
   "metadata": {
    "id": "LcaNVkSoS0bx"
   },
   "source": [
    "_Random Forest_"
   ]
  },
  {
   "cell_type": "code",
   "execution_count": 11,
   "metadata": {
    "id": "AymiAQPgS0by"
   },
   "outputs": [],
   "source": [
    "def Random_Forest(n_estimators, max_depth):\n",
    "    # fitting\n",
    "    start = time()\n",
    "    rf_model = RandomForestRegressor(n_estimators=n_estimators, max_depth=max_depth)\n",
    "    rf_model.fit(x_train, y_train)\n",
    "    end = time()\n",
    "    \n",
    "    time_taken = end-start\n",
    "    ## Testing\n",
    "    results = []                # Saving it into variables to compare the results later\n",
    "    \n",
    "    rf_r2_score_train = rf_model.score(x_train, y_train)\n",
    "    rf_r2_score_test = rf_model.score(x_test, y_test)\n",
    "\n",
    "    print(f'Random Forest R-squared for the Training set: {rf_r2_score_train}')\n",
    "    print(f'Random Forest R-squared for the Test set: {rf_r2_score_test}' )\n",
    "    results.append(rf_r2_score_test)\n",
    "    \n",
    "    print('-'*80)\n",
    "    \n",
    "    pred = lambda x: rf_model.predict(x)\n",
    "    \n",
    "    rf_rmse_score_train = np.sqrt(mean_squared_error(y_train, pred(x_train)))\n",
    "    rf_rmse_score_test  = np.sqrt(mean_squared_error(y_test, pred(x_test)))\n",
    "    \n",
    "    print(f'Random Forest RMSE for the Training set: {rf_rmse_score_train}')\n",
    "    print(f'Random Forest RMSE for the Test set: {rf_rmse_score_test}' )\n",
    "    results.append(rf_rmse_score_test)\n",
    "    \n",
    "    print('-'*80)\n",
    "    \n",
    "    rf_mae_score_train = mean_absolute_error(y_train, pred(x_train))\n",
    "    rf_mae_score_test  = mean_absolute_error(y_test, pred(x_test))\n",
    "    \n",
    "    print(f'Random Forest MAE for the Training set : {rf_mae_score_train}')\n",
    "    print(f'Random Forest MAE for the Test set: {rf_mae_score_test}' )\n",
    "    results.append(rf_mae_score_test)\n",
    "    \n",
    "    print('='*80)\n",
    "    \n",
    "    return results, time_taken"
   ]
  },
  {
   "cell_type": "code",
   "execution_count": 12,
   "metadata": {
    "colab": {
     "base_uri": "https://localhost:8080/"
    },
    "id": "rML4iAJ4S0b1",
    "outputId": "fa419303-d92c-4e6d-d5bc-11d593bc29ad"
   },
   "outputs": [
    {
     "name": "stdout",
     "output_type": "stream",
     "text": [
      "Random Forest R-squared for the Training set: 0.8270156359664796\n",
      "Random Forest R-squared for the Test set: 0.7499530221466921\n",
      "--------------------------------------------------------------------------------\n",
      "Random Forest RMSE for the Training set: 17.08648397482774\n",
      "Random Forest RMSE for the Test set: 20.708377568904442\n",
      "--------------------------------------------------------------------------------\n",
      "Random Forest MAE for the Training set : 9.70364783662365\n",
      "Random Forest MAE for the Test set: 10.561143404821529\n",
      "================================================================================\n",
      "Wall time: 695 ms\n"
     ]
    }
   ],
   "source": [
    "%time rf_results, rf_time_taken = Random_Forest(30, 6)"
   ]
  },
  {
   "cell_type": "markdown",
   "metadata": {
    "id": "4NfoxpgbS0b2"
   },
   "source": [
    "_SVM_"
   ]
  },
  {
   "cell_type": "code",
   "execution_count": 13,
   "metadata": {
    "id": "ToIwTOj9S0b3"
   },
   "outputs": [],
   "source": [
    "def SVM(C):\n",
    "    # fitting\n",
    "    start = time()\n",
    "    svm_model = SVR(C=C)\n",
    "    svm_model.fit(x_train, y_train)\n",
    "    end = time()\n",
    "    \n",
    "   \n",
    "    \n",
    "    time_taken = end-start\n",
    "    ## Testing\n",
    "    results = []                # Saving it into variables to compare the results later\n",
    "    \n",
    "    svm_r2_score_train = svm_model.score(x_train, y_train)\n",
    "    svm_r2_score_test = svm_model.score(x_test, y_test)\n",
    "\n",
    "    print(f'SVM R-squared for the Training set: {svm_r2_score_train}')\n",
    "    print(f'SVM R-squared for the Test set: {svm_r2_score_test}' )\n",
    "    results.append(svm_r2_score_test)\n",
    "    \n",
    "    print('-'*80)\n",
    "    \n",
    "    pred = lambda x: svm_model.predict(x)\n",
    "    \n",
    "    svm_rmse_score_train = np.sqrt(mean_squared_error(y_train, pred(x_train)))\n",
    "    svm_rmse_score_test  = np.sqrt(mean_squared_error(y_test, pred(x_test)))\n",
    "    \n",
    "    print(f'SVM RMSE for the Training set: {svm_rmse_score_train}')\n",
    "    print(f'SVM RMSE for the Test set: {svm_rmse_score_test}' )\n",
    "    results.append(svm_rmse_score_test)\n",
    "    \n",
    "    print('-'*80)\n",
    "    \n",
    "    svm_mae_score_train = mean_absolute_error(y_train, pred(x_train))\n",
    "    svm_mae_score_test  = mean_absolute_error(y_test, pred(x_test))\n",
    "    \n",
    "    print(f'SVM MAE for the Training set : {svm_mae_score_train}')\n",
    "    print(f'SVM MAE for the Test set: {svm_mae_score_test}' )\n",
    "    results.append(svm_mae_score_test)\n",
    "    \n",
    "    print('='*80)\n",
    "    \n",
    "    return results, time_taken"
   ]
  },
  {
   "cell_type": "code",
   "execution_count": 14,
   "metadata": {
    "colab": {
     "base_uri": "https://localhost:8080/"
    },
    "id": "RrcsNKfPS0b5",
    "outputId": "bb5f0ef3-ea7a-457b-a8df-adc4c1bfaff4"
   },
   "outputs": [
    {
     "name": "stdout",
     "output_type": "stream",
     "text": [
      "SVM R-squared for the Training set: 0.7800396986965978\n",
      "SVM R-squared for the Test set: 0.7269131961201138\n",
      "--------------------------------------------------------------------------------\n",
      "SVM RMSE for the Training set: 19.26732539182375\n",
      "SVM RMSE for the Test set: 21.64141369797655\n",
      "--------------------------------------------------------------------------------\n",
      "SVM MAE for the Training set : 9.969347433349283\n",
      "SVM MAE for the Test set: 10.497192664883988\n",
      "================================================================================\n",
      "Wall time: 56 s\n"
     ]
    }
   ],
   "source": [
    "%time svm_results, svm_time_taken = SVM(100)"
   ]
  },
  {
   "cell_type": "markdown",
   "metadata": {
    "id": "NtLQnmU_S0b7"
   },
   "source": [
    "_XGB Regressor_"
   ]
  },
  {
   "cell_type": "code",
   "execution_count": 15,
   "metadata": {
    "id": "9syeOmFeS0b8"
   },
   "outputs": [],
   "source": [
    "def XGBoost(learning_rate, num_leaves, n_estimators):\n",
    "    # Fitting\n",
    "    start = time()\n",
    "    xgb_model = XGBRegressor(learning_rate=learning_rate, num_leaves=num_leaves, n_estimators=n_estimators)\n",
    "    xgb_model.fit(x_train,y_train)\n",
    "    end = time()\n",
    "    \n",
    "    \n",
    "    \n",
    "    time_taken = end-start\n",
    "    ## Testing\n",
    "    results = []                # Saving it into variables to compare the results later\n",
    "    \n",
    "    xgb_r2_score_train = xgb_model.score(x_train, y_train)\n",
    "    xgb_r2_score_test = xgb_model.score(x_test, y_test)\n",
    "\n",
    "    print(f'XGBoost R-squared for the Training set: {xgb_r2_score_train}')\n",
    "    print(f'XGBoost R-squared for the Test set: {xgb_r2_score_test}' )\n",
    "    results.append(xgb_r2_score_test)\n",
    "    \n",
    "    print('-'*80)\n",
    "    \n",
    "    pred = lambda x: xgb_model.predict(x)\n",
    "    \n",
    "    xgb_rmse_score_train = np.sqrt(mean_squared_error(y_train, pred(x_train)))\n",
    "    xgb_rmse_score_test  = np.sqrt(mean_squared_error(y_test, pred(x_test)))\n",
    "    \n",
    "    print(f'XGBoost RMSE for the Training set: {xgb_rmse_score_train}')\n",
    "    print(f'XGBoost RMSE for the Test set: {xgb_rmse_score_test}' )\n",
    "    results.append(xgb_rmse_score_test)\n",
    "    \n",
    "    print('-'*80)\n",
    "    \n",
    "    xgb_mae_score_train = mean_absolute_error(y_train, pred(x_train))\n",
    "    xgb_mae_score_test  = mean_absolute_error(y_test, pred(x_test))\n",
    "    \n",
    "    print(f'XGBoost MAE for the Training set : {xgb_mae_score_train}')\n",
    "    print(f'XGBoost MAE for the Test set: {xgb_mae_score_test}' )\n",
    "    results.append(xgb_mae_score_test)\n",
    "    \n",
    "    print('='*80)\n",
    "    \n",
    "    return results, time_taken"
   ]
  },
  {
   "cell_type": "code",
   "execution_count": 16,
   "metadata": {
    "colab": {
     "base_uri": "https://localhost:8080/"
    },
    "id": "II5-SfC4S0b-",
    "outputId": "1f84193d-b01d-412c-d957-ca0adabdef52"
   },
   "outputs": [
    {
     "name": "stdout",
     "output_type": "stream",
     "text": [
      "[23:41:07] WARNING: C:/Users/Administrator/workspace/xgboost-win64_release_1.3.0/src/learner.cc:541: \n",
      "Parameters: { num_leaves } might not be used.\n",
      "\n",
      "  This may not be accurate due to some parameters are only used in language bindings but\n",
      "  passed down to XGBoost core.  Or some parameters are not used but slip through this\n",
      "  verification. Please open an issue if you find above cases.\n",
      "\n",
      "\n",
      "XGBoost R-squared for the Training set: 0.8770834194096064\n",
      "XGBoost R-squared for the Test set: 0.7363096152646986\n",
      "--------------------------------------------------------------------------------\n",
      "XGBoost RMSE for the Training set: 14.403051515642627\n",
      "XGBoost RMSE for the Test set: 21.265833864948597\n",
      "--------------------------------------------------------------------------------\n",
      "XGBoost MAE for the Training set : 8.186686747080985\n",
      "XGBoost MAE for the Test set: 10.26734213790405\n",
      "================================================================================\n",
      "Wall time: 574 ms\n"
     ]
    }
   ],
   "source": [
    "%time xgb_results, xgb_time_taken = XGBoost(0.1, 10, 75)"
   ]
  },
  {
   "cell_type": "markdown",
   "metadata": {
    "id": "oWCCcSIdS0b_"
   },
   "source": [
    "_LightGBM_"
   ]
  },
  {
   "cell_type": "code",
   "execution_count": 17,
   "metadata": {
    "id": "Xj7rhiYSS0b_"
   },
   "outputs": [],
   "source": [
    "def LightGBM(learning_rate, num_leaves, n_estimators):\n",
    "    # Fitting\n",
    "    start = time()\n",
    "    lgbm_model = LGBMRegressor(learning_rate=learning_rate, num_leaves=num_leaves, n_estimators=n_estimators)\n",
    "    lgbm_model.fit(x_train,y_train)\n",
    "    end = time()\n",
    "    \n",
    "    \n",
    "    \n",
    "    time_taken = end-start\n",
    "    ## Testing\n",
    "    results = []                # Saving it into variables to compare the results later\n",
    "    \n",
    "    lgbm_r2_score_train = lgbm_model.score(x_train, y_train)\n",
    "    lgbm_r2_score_test = lgbm_model.score(x_test, y_test)\n",
    "\n",
    "    print(f'LightGBM R-squared for the Training set: {lgbm_r2_score_train}')\n",
    "    print(f'LightGBM R-squared for the Test set: {lgbm_r2_score_test}' )\n",
    "    results.append(lgbm_r2_score_test)\n",
    "    \n",
    "    print('-'*80)\n",
    "    \n",
    "    pred = lambda x: lgbm_model.predict(x)\n",
    "    \n",
    "    lgbm_rmse_score_train = np.sqrt(mean_squared_error(y_train, pred(x_train)))\n",
    "    lgbm_rmse_score_test  = np.sqrt(mean_squared_error(y_test, pred(x_test)))\n",
    "    \n",
    "    print(f'LightGBM RMSE for the Training set: {lgbm_rmse_score_train}')\n",
    "    print(f'LightGBM RMSE for the Test set: {lgbm_rmse_score_test}' )\n",
    "    results.append(lgbm_rmse_score_test)\n",
    "    \n",
    "    print('-'*80)\n",
    "    \n",
    "    lgbm_mae_score_train = mean_absolute_error(y_train, pred(x_train))\n",
    "    lgbm_mae_score_test  = mean_absolute_error(y_test, pred(x_test))\n",
    "    \n",
    "    print(f'LightGBM MAE for the Training set : {lgbm_mae_score_train}')\n",
    "    print(f'LightGBM MAE for the Test set: {lgbm_mae_score_test}' )\n",
    "    results.append(lgbm_mae_score_test)\n",
    "    \n",
    "    print('='*80)\n",
    "    \n",
    "    return results, time_taken"
   ]
  },
  {
   "cell_type": "code",
   "execution_count": 18,
   "metadata": {
    "colab": {
     "base_uri": "https://localhost:8080/"
    },
    "id": "1ABDOKlpS0cB",
    "outputId": "e0e58ee1-09b2-4930-96ac-b612d4801a6c"
   },
   "outputs": [
    {
     "name": "stdout",
     "output_type": "stream",
     "text": [
      "LightGBM R-squared for the Training set: 0.8269436619348141\n",
      "LightGBM R-squared for the Test set: 0.7562678934803143\n",
      "--------------------------------------------------------------------------------\n",
      "LightGBM RMSE for the Training set: 17.090038212959044\n",
      "LightGBM RMSE for the Test set: 20.44521306376\n",
      "--------------------------------------------------------------------------------\n",
      "LightGBM MAE for the Training set : 9.454758692617114\n",
      "LightGBM MAE for the Test set: 10.183918505802334\n",
      "================================================================================\n",
      "Wall time: 242 ms\n"
     ]
    }
   ],
   "source": [
    "%time lgbm_results, lgbm_time_taken = LightGBM(0.1, 10, 75)"
   ]
  },
  {
   "cell_type": "markdown",
   "metadata": {
    "id": "r6Wk85txS0cC"
   },
   "source": [
    "# Conclusion "
   ]
  },
  {
   "cell_type": "code",
   "execution_count": 19,
   "metadata": {
    "id": "9x2qkejCS0cC"
   },
   "outputs": [],
   "source": [
    "import joblib"
   ]
  },
  {
   "cell_type": "code",
   "execution_count": 20,
   "metadata": {
    "id": "iKfqHBzFS0cD"
   },
   "outputs": [],
   "source": [
    "ann_r2_score_test   = joblib.load('ann_r2_score_test.sav')\n",
    "ann_rmse_score_test = joblib.load('ann_rmse_score_test.sav')\n",
    "ann_mae_score_test  = joblib.load('ann_mae_score_test.sav')\n",
    "ann_time_taken      = joblib.load('ann_time_taken.sav')\n",
    "\n",
    "ann_results = [ann_r2_score_test, ann_rmse_score_test, ann_mae_score_test]"
   ]
  },
  {
   "cell_type": "code",
   "execution_count": 21,
   "metadata": {
    "id": "ZuDccmhMS0cE",
    "outputId": "383cce42-c3b8-47e5-aa8e-8bea37e392b2"
   },
   "outputs": [],
   "source": [
    "Regressors = [\"SVM\", \"RF\", \"LGBM\",  \"XGB\", \"ANN\"]\n",
    "\n",
    "results_array    = np.array([svm_results, rf_results, lgbm_results,  xgb_results, ann_results])\n",
    "\n",
    "time_taken_array = np.array([svm_time_taken, rf_time_taken, lgbm_time_taken,  xgb_time_taken, ann_time_taken])\n",
    "\n",
    "results_time_df = pd.DataFrame({'R-Squared':results_array[:, 0], 'RMSE':results_array[:, 1], 'MAE':results_array[:, 2],\n",
    "                                'Time Taken':time_taken_array}, index=Regressors)\n",
    "\n",
    "# Modifying the scale of the first column\n",
    "results_time_df['R-Squared'] = results_time_df['R-Squared']*100\n",
    "\n",
    "results_time_df.to_csv('results_10.csv')"
   ]
  },
  {
   "cell_type": "code",
   "execution_count": null,
   "metadata": {},
   "outputs": [],
   "source": []
  }
 ],
 "metadata": {
  "colab": {
   "name": "Regression_Modeling.ipynb",
   "provenance": [],
   "toc_visible": true
  },
  "kernelspec": {
   "display_name": "Python 3",
   "language": "python",
   "name": "python3"
  },
  "language_info": {
   "codemirror_mode": {
    "name": "ipython",
    "version": 3
   },
   "file_extension": ".py",
   "mimetype": "text/x-python",
   "name": "python",
   "nbconvert_exporter": "python",
   "pygments_lexer": "ipython3",
   "version": "3.8.8"
  }
 },
 "nbformat": 4,
 "nbformat_minor": 1
}
