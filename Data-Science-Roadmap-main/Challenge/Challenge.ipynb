{
 "cells": [
  {
   "cell_type": "code",
   "execution_count": 6,
   "metadata": {},
   "outputs": [],
   "source": [
    "import numpy as np"
   ]
  },
  {
   "cell_type": "code",
   "execution_count": 1,
   "metadata": {},
   "outputs": [],
   "source": [
    "#اولا بقرا الملف الى فيه test cases\n",
    "test_cases = list(open('TestCases.txt','r'))"
   ]
  },
  {
   "cell_type": "code",
   "execution_count": 11,
   "metadata": {},
   "outputs": [],
   "source": [
    "def get_sum(test_cases):\n",
    "    #هنا انا هجيب بس السطور الى فيها الارقام الى هجمعها\n",
    "    lines_to_sum = test_cases[2:len(test_cases):2]\n",
    "    #هنا انا هحول السطر لليست وهحول الارقام من نص ل int\n",
    "    cleaned_lines = map(lambda x:map(int,x.rstrip().split(' ')),lines_to_sum)\n",
    "    #هنا هعمل فلترة للارقام السالبة\n",
    "    filtered_lines = list(map(lambda x: list(filter(lambda y:y >0,x)),cleaned_lines))\n",
    "    #هنا بقا هربعهم واجمعهم\n",
    "    final_lines = map(lambda x:(np.array(x)**2).sum(),filtered_lines)\n",
    "    print(list(final_lines))"
   ]
  },
  {
   "cell_type": "code",
   "execution_count": 12,
   "metadata": {},
   "outputs": [
    {
     "name": "stdout",
     "output_type": "stream",
     "text": [
      "[206, 1397]\n",
      "Wall time: 0 ns\n"
     ]
    }
   ],
   "source": [
    "%time get_sum(test_cases)"
   ]
  },
  {
   "cell_type": "code",
   "execution_count": null,
   "metadata": {},
   "outputs": [],
   "source": []
  }
 ],
 "metadata": {
  "kernelspec": {
   "display_name": "Python 3",
   "language": "python",
   "name": "python3"
  },
  "language_info": {
   "codemirror_mode": {
    "name": "ipython",
    "version": 3
   },
   "file_extension": ".py",
   "mimetype": "text/x-python",
   "name": "python",
   "nbconvert_exporter": "python",
   "pygments_lexer": "ipython3",
   "version": "3.8.5"
  }
 },
 "nbformat": 4,
 "nbformat_minor": 4
}
