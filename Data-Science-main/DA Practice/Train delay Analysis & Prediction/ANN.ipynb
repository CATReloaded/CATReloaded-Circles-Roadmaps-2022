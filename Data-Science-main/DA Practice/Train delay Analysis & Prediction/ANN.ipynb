{
 "cells": [
  {
   "cell_type": "code",
   "execution_count": 1,
   "metadata": {
    "colab": {
     "base_uri": "https://localhost:8080/"
    },
    "id": "LelZt5_ePoaL",
    "outputId": "edb04065-a36a-4c99-e028-8d32347aed51"
   },
   "outputs": [
    {
     "name": "stderr",
     "output_type": "stream",
     "text": [
      "/usr/local/lib/python3.7/dist-packages/statsmodels/tools/_testing.py:19: FutureWarning: pandas.util.testing is deprecated. Use the functions in the public API at pandas.testing instead.\n",
      "  import pandas.util.testing as tm\n"
     ]
    }
   ],
   "source": [
    "# For Loading and Manipulating data\n",
    "import pandas as pd\n",
    "import numpy as np\n",
    "\n",
    "# To display all the columns and the rows ( regardless of their number or their width )\n",
    "pd.set_option('display.max_rows', None)\n",
    "pd.set_option('display.max_columns', None)\n",
    "pd.set_option('display.max_colwidth', None)\n",
    "\n",
    "# For splitting, encoding and scaling the data respectively\n",
    "from sklearn.model_selection import train_test_split\n",
    "from category_encoders import MEstimateEncoder\n",
    "\n",
    "# For visualization purposes\n",
    "import matplotlib.pyplot as plt\n",
    "import seaborn as sns\n",
    "\n",
    "%matplotlib inline\n",
    "\n",
    "# To change the style of the plots ( so that we all can see the same thing :) )\n",
    "plt.style.use('seaborn')\n",
    "\n",
    "# To remove annoying warnings\n",
    "import warnings\n",
    "warnings.filterwarnings('ignore')"
   ]
  },
  {
   "cell_type": "code",
   "execution_count": 2,
   "metadata": {
    "id": "9K-I9DlpQW_a"
   },
   "outputs": [],
   "source": [
    "df = pd.read_csv('cleanest.csv')"
   ]
  },
  {
   "cell_type": "code",
   "execution_count": 3,
   "metadata": {
    "colab": {
     "base_uri": "https://localhost:8080/",
     "height": 305
    },
    "id": "AX2JWxsQQ8fN",
    "outputId": "a11e869d-2d7b-4d66-f3b6-bf71f55967a3"
   },
   "outputs": [
    {
     "data": {
      "text/html": [
       "<div>\n",
       "<style scoped>\n",
       "    .dataframe tbody tr th:only-of-type {\n",
       "        vertical-align: middle;\n",
       "    }\n",
       "\n",
       "    .dataframe tbody tr th {\n",
       "        vertical-align: top;\n",
       "    }\n",
       "\n",
       "    .dataframe thead th {\n",
       "        text-align: right;\n",
       "    }\n",
       "</style>\n",
       "<table border=\"1\" class=\"dataframe\">\n",
       "  <thead>\n",
       "    <tr style=\"text-align: right;\">\n",
       "      <th></th>\n",
       "      <th>Train</th>\n",
       "      <th>Departure_delay</th>\n",
       "      <th>Motifs</th>\n",
       "      <th>Holiday</th>\n",
       "      <th>Code_cir</th>\n",
       "      <th>Direction</th>\n",
       "      <th>Weekday_sin</th>\n",
       "      <th>Weekday_cos</th>\n",
       "      <th>Month_sin</th>\n",
       "      <th>Month_cos</th>\n",
       "      <th>Season_sin</th>\n",
       "      <th>Season_cos</th>\n",
       "      <th>Destination_Len</th>\n",
       "      <th>Nbr_Stops</th>\n",
       "      <th>dist_bet_Stops</th>\n",
       "    </tr>\n",
       "  </thead>\n",
       "  <tbody>\n",
       "    <tr>\n",
       "      <th>1965</th>\n",
       "      <td>15.573508</td>\n",
       "      <td>0.0</td>\n",
       "      <td>16.926870</td>\n",
       "      <td>1</td>\n",
       "      <td>1.000000</td>\n",
       "      <td>1</td>\n",
       "      <td>0.433884</td>\n",
       "      <td>-0.900969</td>\n",
       "      <td>8.660254e-01</td>\n",
       "      <td>0.500000</td>\n",
       "      <td>1.000000e+00</td>\n",
       "      <td>6.123234e-17</td>\n",
       "      <td>76.300</td>\n",
       "      <td>26.0</td>\n",
       "      <td>2.934615</td>\n",
       "    </tr>\n",
       "    <tr>\n",
       "      <th>8895</th>\n",
       "      <td>7.739346</td>\n",
       "      <td>15.0</td>\n",
       "      <td>51.908623</td>\n",
       "      <td>1</td>\n",
       "      <td>1.000000</td>\n",
       "      <td>0</td>\n",
       "      <td>0.781831</td>\n",
       "      <td>0.623490</td>\n",
       "      <td>-5.000000e-01</td>\n",
       "      <td>0.866025</td>\n",
       "      <td>0.000000e+00</td>\n",
       "      <td>1.000000e+00</td>\n",
       "      <td>76.300</td>\n",
       "      <td>26.0</td>\n",
       "      <td>2.934615</td>\n",
       "    </tr>\n",
       "    <tr>\n",
       "      <th>9225</th>\n",
       "      <td>9.812378</td>\n",
       "      <td>0.0</td>\n",
       "      <td>16.926870</td>\n",
       "      <td>1</td>\n",
       "      <td>1.000000</td>\n",
       "      <td>1</td>\n",
       "      <td>0.974928</td>\n",
       "      <td>-0.222521</td>\n",
       "      <td>-5.000000e-01</td>\n",
       "      <td>0.866025</td>\n",
       "      <td>0.000000e+00</td>\n",
       "      <td>1.000000e+00</td>\n",
       "      <td>76.300</td>\n",
       "      <td>26.0</td>\n",
       "      <td>2.934615</td>\n",
       "    </tr>\n",
       "    <tr>\n",
       "      <th>5574</th>\n",
       "      <td>71.810907</td>\n",
       "      <td>15.0</td>\n",
       "      <td>51.908623</td>\n",
       "      <td>1</td>\n",
       "      <td>0.857143</td>\n",
       "      <td>0</td>\n",
       "      <td>0.781831</td>\n",
       "      <td>0.623490</td>\n",
       "      <td>1.224647e-16</td>\n",
       "      <td>-1.000000</td>\n",
       "      <td>1.224647e-16</td>\n",
       "      <td>-1.000000e+00</td>\n",
       "      <td>162.222</td>\n",
       "      <td>32.0</td>\n",
       "      <td>5.069438</td>\n",
       "    </tr>\n",
       "    <tr>\n",
       "      <th>2080</th>\n",
       "      <td>94.807156</td>\n",
       "      <td>0.0</td>\n",
       "      <td>36.035756</td>\n",
       "      <td>1</td>\n",
       "      <td>1.000000</td>\n",
       "      <td>1</td>\n",
       "      <td>0.000000</td>\n",
       "      <td>1.000000</td>\n",
       "      <td>8.660254e-01</td>\n",
       "      <td>0.500000</td>\n",
       "      <td>1.000000e+00</td>\n",
       "      <td>6.123234e-17</td>\n",
       "      <td>269.249</td>\n",
       "      <td>41.0</td>\n",
       "      <td>6.567049</td>\n",
       "    </tr>\n",
       "  </tbody>\n",
       "</table>\n",
       "</div>"
      ],
      "text/plain": [
       "          Train  Departure_delay     Motifs  Holiday  Code_cir  Direction  \\\n",
       "1965  15.573508              0.0  16.926870        1  1.000000          1   \n",
       "8895   7.739346             15.0  51.908623        1  1.000000          0   \n",
       "9225   9.812378              0.0  16.926870        1  1.000000          1   \n",
       "5574  71.810907             15.0  51.908623        1  0.857143          0   \n",
       "2080  94.807156              0.0  36.035756        1  1.000000          1   \n",
       "\n",
       "      Weekday_sin  Weekday_cos     Month_sin  Month_cos    Season_sin  \\\n",
       "1965     0.433884    -0.900969  8.660254e-01   0.500000  1.000000e+00   \n",
       "8895     0.781831     0.623490 -5.000000e-01   0.866025  0.000000e+00   \n",
       "9225     0.974928    -0.222521 -5.000000e-01   0.866025  0.000000e+00   \n",
       "5574     0.781831     0.623490  1.224647e-16  -1.000000  1.224647e-16   \n",
       "2080     0.000000     1.000000  8.660254e-01   0.500000  1.000000e+00   \n",
       "\n",
       "        Season_cos  Destination_Len  Nbr_Stops  dist_bet_Stops  \n",
       "1965  6.123234e-17           76.300       26.0        2.934615  \n",
       "8895  1.000000e+00           76.300       26.0        2.934615  \n",
       "9225  1.000000e+00           76.300       26.0        2.934615  \n",
       "5574 -1.000000e+00          162.222       32.0        5.069438  \n",
       "2080  6.123234e-17          269.249       41.0        6.567049  "
      ]
     },
     "execution_count": 3,
     "metadata": {
      "tags": []
     },
     "output_type": "execute_result"
    }
   ],
   "source": [
    "x = df.drop(columns=['Arrival_delay'])\n",
    "y = df['Arrival_delay']\n",
    "\n",
    "x_train, x_test, y_train, y_test = train_test_split(x, y, test_size=0.2)\n",
    "\n",
    "te = MEstimateEncoder()\n",
    "x_train = te.fit_transform(x_train, y_train)\n",
    "x_test  = te.transform(x_test)\n",
    "\n",
    "x_train.head()"
   ]
  },
  {
   "cell_type": "markdown",
   "metadata": {
    "id": "_5izjsXejoZt"
   },
   "source": [
    "## Neural Network"
   ]
  },
  {
   "cell_type": "code",
   "execution_count": 4,
   "metadata": {
    "id": "tNNaSyHvjr2e"
   },
   "outputs": [],
   "source": [
    "import tensorflow as tf\n",
    "from keras.models import Sequential\n",
    "from keras.layers import Dense, Dropout, BatchNormalization"
   ]
  },
  {
   "cell_type": "code",
   "execution_count": 5,
   "metadata": {
    "id": "CaSqQt6JkBC9"
   },
   "outputs": [],
   "source": [
    "ann = Sequential([\n",
    "                  Dense(units=64, activation='relu'),\n",
    "                  Dropout(0.1),\n",
    "                  Dense(units=1, activation='relu')\n",
    "])"
   ]
  },
  {
   "cell_type": "code",
   "execution_count": 6,
   "metadata": {
    "id": "yYZHfwzIkEQJ"
   },
   "outputs": [],
   "source": [
    "ann.compile(optimizer = 'adam', loss = 'mean_squared_error')"
   ]
  },
  {
   "cell_type": "code",
   "execution_count": 7,
   "metadata": {
    "colab": {
     "base_uri": "https://localhost:8080/"
    },
    "id": "3LUfp3HpkMn-",
    "outputId": "82bb7b18-85fd-4abe-b9c4-edd917997830"
   },
   "outputs": [
    {
     "name": "stdout",
     "output_type": "stream",
     "text": [
      "Epoch 1/100\n",
      "240/240 [==============================] - 20s 1ms/step - loss: 1045.8985\n",
      "Epoch 2/100\n",
      "240/240 [==============================] - 0s 1ms/step - loss: 579.9306\n",
      "Epoch 3/100\n",
      "240/240 [==============================] - 0s 1ms/step - loss: 510.9432\n",
      "Epoch 4/100\n",
      "240/240 [==============================] - 0s 1ms/step - loss: 480.5781\n",
      "Epoch 5/100\n",
      "240/240 [==============================] - 0s 1ms/step - loss: 435.4885\n",
      "Epoch 6/100\n",
      "240/240 [==============================] - 0s 1ms/step - loss: 511.5000\n",
      "Epoch 7/100\n",
      "240/240 [==============================] - 0s 1ms/step - loss: 494.1581\n",
      "Epoch 8/100\n",
      "240/240 [==============================] - 0s 1ms/step - loss: 481.7252\n",
      "Epoch 9/100\n",
      "240/240 [==============================] - 0s 1ms/step - loss: 407.5354\n",
      "Epoch 10/100\n",
      "240/240 [==============================] - 0s 1ms/step - loss: 487.1472\n",
      "Epoch 11/100\n",
      "240/240 [==============================] - 0s 1ms/step - loss: 421.9456\n",
      "Epoch 12/100\n",
      "240/240 [==============================] - 0s 1ms/step - loss: 453.6397\n",
      "Epoch 13/100\n",
      "240/240 [==============================] - 0s 1ms/step - loss: 392.4124\n",
      "Epoch 14/100\n",
      "240/240 [==============================] - 0s 1ms/step - loss: 411.0263\n",
      "Epoch 15/100\n",
      "240/240 [==============================] - 0s 1ms/step - loss: 395.1236\n",
      "Epoch 16/100\n",
      "240/240 [==============================] - 0s 1ms/step - loss: 435.9053\n",
      "Epoch 17/100\n",
      "240/240 [==============================] - 0s 1ms/step - loss: 439.4912\n",
      "Epoch 18/100\n",
      "240/240 [==============================] - 0s 1ms/step - loss: 420.9487\n",
      "Epoch 19/100\n",
      "240/240 [==============================] - 0s 1ms/step - loss: 407.1595\n",
      "Epoch 20/100\n",
      "240/240 [==============================] - 0s 1ms/step - loss: 417.7299\n",
      "Epoch 21/100\n",
      "240/240 [==============================] - 0s 1ms/step - loss: 406.6514\n",
      "Epoch 22/100\n",
      "240/240 [==============================] - 0s 1ms/step - loss: 424.6264\n",
      "Epoch 23/100\n",
      "240/240 [==============================] - 0s 1ms/step - loss: 375.4286\n",
      "Epoch 24/100\n",
      "240/240 [==============================] - 0s 1ms/step - loss: 391.2453\n",
      "Epoch 25/100\n",
      "240/240 [==============================] - 0s 1ms/step - loss: 421.9968\n",
      "Epoch 26/100\n",
      "240/240 [==============================] - 0s 1ms/step - loss: 367.5906\n",
      "Epoch 27/100\n",
      "240/240 [==============================] - 0s 1ms/step - loss: 421.0889\n",
      "Epoch 28/100\n",
      "240/240 [==============================] - 0s 1ms/step - loss: 442.3505\n",
      "Epoch 29/100\n",
      "240/240 [==============================] - 0s 1ms/step - loss: 346.3549\n",
      "Epoch 30/100\n",
      "240/240 [==============================] - 0s 1ms/step - loss: 382.4005\n",
      "Epoch 31/100\n",
      "240/240 [==============================] - 0s 1ms/step - loss: 388.8968\n",
      "Epoch 32/100\n",
      "240/240 [==============================] - 0s 1ms/step - loss: 439.0965\n",
      "Epoch 33/100\n",
      "240/240 [==============================] - 0s 1ms/step - loss: 410.1507\n",
      "Epoch 34/100\n",
      "240/240 [==============================] - 0s 1ms/step - loss: 407.1605\n",
      "Epoch 35/100\n",
      "240/240 [==============================] - 0s 1ms/step - loss: 397.1238\n",
      "Epoch 36/100\n",
      "240/240 [==============================] - 0s 1ms/step - loss: 385.2713\n",
      "Epoch 37/100\n",
      "240/240 [==============================] - 0s 1ms/step - loss: 364.4821\n",
      "Epoch 38/100\n",
      "240/240 [==============================] - 0s 1ms/step - loss: 402.7753\n",
      "Epoch 39/100\n",
      "240/240 [==============================] - 0s 1ms/step - loss: 387.7731\n",
      "Epoch 40/100\n",
      "240/240 [==============================] - 0s 1ms/step - loss: 397.4944\n",
      "Epoch 41/100\n",
      "240/240 [==============================] - 0s 1ms/step - loss: 373.6974\n",
      "Epoch 42/100\n",
      "240/240 [==============================] - 0s 1ms/step - loss: 396.7316\n",
      "Epoch 43/100\n",
      "240/240 [==============================] - 0s 1ms/step - loss: 392.6531\n",
      "Epoch 44/100\n",
      "240/240 [==============================] - 0s 1ms/step - loss: 399.6331\n",
      "Epoch 45/100\n",
      "240/240 [==============================] - 0s 1ms/step - loss: 457.6543\n",
      "Epoch 46/100\n",
      "240/240 [==============================] - 0s 1ms/step - loss: 410.5073\n",
      "Epoch 47/100\n",
      "240/240 [==============================] - 0s 1ms/step - loss: 379.8614\n",
      "Epoch 48/100\n",
      "240/240 [==============================] - 0s 1ms/step - loss: 363.1921\n",
      "Epoch 49/100\n",
      "240/240 [==============================] - 0s 1ms/step - loss: 379.6140\n",
      "Epoch 50/100\n",
      "240/240 [==============================] - 0s 1ms/step - loss: 402.6749\n",
      "Epoch 51/100\n",
      "240/240 [==============================] - 0s 1ms/step - loss: 408.2574\n",
      "Epoch 52/100\n",
      "240/240 [==============================] - 0s 1ms/step - loss: 398.3072\n",
      "Epoch 53/100\n",
      "240/240 [==============================] - 0s 1ms/step - loss: 340.6774\n",
      "Epoch 54/100\n",
      "240/240 [==============================] - 0s 1ms/step - loss: 407.6476\n",
      "Epoch 55/100\n",
      "240/240 [==============================] - 0s 1ms/step - loss: 417.3386\n",
      "Epoch 56/100\n",
      "240/240 [==============================] - 0s 1ms/step - loss: 394.5915\n",
      "Epoch 57/100\n",
      "240/240 [==============================] - 0s 1ms/step - loss: 391.5090\n",
      "Epoch 58/100\n",
      "240/240 [==============================] - 0s 1ms/step - loss: 428.8186\n",
      "Epoch 59/100\n",
      "240/240 [==============================] - 0s 1ms/step - loss: 420.3371\n",
      "Epoch 60/100\n",
      "240/240 [==============================] - 0s 1ms/step - loss: 389.0205\n",
      "Epoch 61/100\n",
      "240/240 [==============================] - 0s 1ms/step - loss: 390.3117\n",
      "Epoch 62/100\n",
      "240/240 [==============================] - 0s 1ms/step - loss: 365.8825\n",
      "Epoch 63/100\n",
      "240/240 [==============================] - 0s 1ms/step - loss: 394.6739\n",
      "Epoch 64/100\n",
      "240/240 [==============================] - 0s 1ms/step - loss: 385.8976\n",
      "Epoch 65/100\n",
      "240/240 [==============================] - 0s 1ms/step - loss: 354.8753\n",
      "Epoch 66/100\n",
      "240/240 [==============================] - 0s 1ms/step - loss: 365.0785\n",
      "Epoch 67/100\n",
      "240/240 [==============================] - 0s 1ms/step - loss: 359.9510\n",
      "Epoch 68/100\n",
      "240/240 [==============================] - 0s 1ms/step - loss: 351.6494\n",
      "Epoch 69/100\n",
      "240/240 [==============================] - 0s 1ms/step - loss: 368.1776\n",
      "Epoch 70/100\n",
      "240/240 [==============================] - 0s 1ms/step - loss: 474.3087\n",
      "Epoch 71/100\n",
      "240/240 [==============================] - 0s 1ms/step - loss: 352.8183\n",
      "Epoch 72/100\n",
      "240/240 [==============================] - 0s 1ms/step - loss: 361.1565\n",
      "Epoch 73/100\n",
      "240/240 [==============================] - 0s 1ms/step - loss: 377.7956\n",
      "Epoch 74/100\n",
      "240/240 [==============================] - 0s 1ms/step - loss: 360.2220\n",
      "Epoch 75/100\n",
      "240/240 [==============================] - 0s 1ms/step - loss: 406.9633\n",
      "Epoch 76/100\n",
      "240/240 [==============================] - 0s 1ms/step - loss: 381.7987\n",
      "Epoch 77/100\n",
      "240/240 [==============================] - 0s 1ms/step - loss: 402.8723\n",
      "Epoch 78/100\n",
      "240/240 [==============================] - 0s 1ms/step - loss: 365.8353\n",
      "Epoch 79/100\n",
      "240/240 [==============================] - 0s 1ms/step - loss: 364.3409\n",
      "Epoch 80/100\n",
      "240/240 [==============================] - 0s 1ms/step - loss: 429.7871\n",
      "Epoch 81/100\n",
      "240/240 [==============================] - 0s 1ms/step - loss: 376.9234\n",
      "Epoch 82/100\n",
      "240/240 [==============================] - 0s 1ms/step - loss: 400.1077\n",
      "Epoch 83/100\n",
      "240/240 [==============================] - 0s 1ms/step - loss: 396.4431\n",
      "Epoch 84/100\n",
      "240/240 [==============================] - 0s 1ms/step - loss: 435.4632\n",
      "Epoch 85/100\n",
      "240/240 [==============================] - 0s 1ms/step - loss: 385.4219\n",
      "Epoch 86/100\n",
      "240/240 [==============================] - 0s 1ms/step - loss: 337.2183\n",
      "Epoch 87/100\n",
      "240/240 [==============================] - 0s 1ms/step - loss: 373.4250\n",
      "Epoch 88/100\n",
      "240/240 [==============================] - 0s 1ms/step - loss: 361.2092\n",
      "Epoch 89/100\n",
      "240/240 [==============================] - 0s 1ms/step - loss: 333.5372\n",
      "Epoch 90/100\n",
      "240/240 [==============================] - 0s 1ms/step - loss: 381.3833\n",
      "Epoch 91/100\n",
      "240/240 [==============================] - 0s 1ms/step - loss: 366.4821\n",
      "Epoch 92/100\n",
      "240/240 [==============================] - 0s 1ms/step - loss: 386.4095\n",
      "Epoch 93/100\n",
      "240/240 [==============================] - 0s 1ms/step - loss: 352.5154\n",
      "Epoch 94/100\n",
      "240/240 [==============================] - 0s 1ms/step - loss: 372.3360\n",
      "Epoch 95/100\n",
      "240/240 [==============================] - 0s 1ms/step - loss: 350.4450\n",
      "Epoch 96/100\n",
      "240/240 [==============================] - 0s 1ms/step - loss: 362.4755\n",
      "Epoch 97/100\n",
      "240/240 [==============================] - 0s 1ms/step - loss: 337.5841\n",
      "Epoch 98/100\n",
      "240/240 [==============================] - 0s 1ms/step - loss: 384.4059\n",
      "Epoch 99/100\n",
      "240/240 [==============================] - 0s 1ms/step - loss: 392.6810\n",
      "Epoch 100/100\n",
      "240/240 [==============================] - 0s 1ms/step - loss: 382.4562\n"
     ]
    }
   ],
   "source": [
    "from time import time\n",
    "start = time()\n",
    "ann.fit(x_train, y_train, batch_size = 32, epochs = 100)\n",
    "end = time() \n",
    "\n",
    "ann_time_taken = end-start"
   ]
  },
  {
   "cell_type": "code",
   "execution_count": 8,
   "metadata": {
    "colab": {
     "base_uri": "https://localhost:8080/"
    },
    "id": "XenUEVBW38ah",
    "outputId": "18379217-d689-4c99-b0b9-8a76d95cd800"
   },
   "outputs": [
    {
     "name": "stdout",
     "output_type": "stream",
     "text": [
      "Model: \"sequential\"\n",
      "_________________________________________________________________\n",
      "Layer (type)                 Output Shape              Param #   \n",
      "=================================================================\n",
      "dense (Dense)                (None, 64)                1024      \n",
      "_________________________________________________________________\n",
      "dropout (Dropout)            (None, 64)                0         \n",
      "_________________________________________________________________\n",
      "dense_1 (Dense)              (None, 1)                 65        \n",
      "=================================================================\n",
      "Total params: 1,089\n",
      "Trainable params: 1,089\n",
      "Non-trainable params: 0\n",
      "_________________________________________________________________\n"
     ]
    }
   ],
   "source": [
    "ann.summary()"
   ]
  },
  {
   "cell_type": "code",
   "execution_count": 9,
   "metadata": {
    "id": "z8eo9iEasPF3"
   },
   "outputs": [],
   "source": [
    "from sklearn.metrics import r2_score, mean_absolute_error, mean_squared_error"
   ]
  },
  {
   "cell_type": "code",
   "execution_count": 10,
   "metadata": {
    "id": "8NP9ntODr0dz"
   },
   "outputs": [],
   "source": [
    "y_pred = ann.predict(x_test)"
   ]
  },
  {
   "cell_type": "code",
   "execution_count": 11,
   "metadata": {
    "colab": {
     "base_uri": "https://localhost:8080/"
    },
    "id": "l61neA2Irz5Q",
    "outputId": "70b9e34d-d844-4a2d-8082-bac60b05ea14"
   },
   "outputs": [
    {
     "data": {
      "text/plain": [
       "(0.8012125410042257, 9.928577421487187, 9.928577421487187)"
      ]
     },
     "execution_count": 11,
     "metadata": {
      "tags": []
     },
     "output_type": "execute_result"
    }
   ],
   "source": [
    "r2_score(y_test, y_pred), mean_absolute_error(y_test, y_pred), mean_absolute_error(y_test, y_pred)"
   ]
  },
  {
   "cell_type": "code",
   "execution_count": 12,
   "metadata": {
    "colab": {
     "base_uri": "https://localhost:8080/"
    },
    "id": "8wEgAqh0sYkk",
    "outputId": "cf35d967-08f1-4ff4-d326-11f63a40b321"
   },
   "outputs": [
    {
     "data": {
      "text/plain": [
       "['ann_time_taken.sav']"
      ]
     },
     "execution_count": 12,
     "metadata": {
      "tags": []
     },
     "output_type": "execute_result"
    }
   ],
   "source": [
    "ann_r2_score_test   = r2_score(y_test, y_pred)\n",
    "ann_rmse_score_test = mean_absolute_error(y_test, y_pred)\n",
    "ann_mae_score_test  = mean_absolute_error(y_test, y_pred)\n",
    "\n",
    "\n",
    "import joblib\n",
    "joblib.dump(ann_r2_score_test, 'ann_r2_score_test.sav')\n",
    "joblib.dump(ann_rmse_score_test, 'ann_rmse_score_test.sav')\n",
    "joblib.dump(ann_mae_score_test, 'ann_mae_score_test.sav')\n",
    "joblib.dump(ann_time_taken, 'ann_time_taken.sav')"
   ]
  },
  {
   "cell_type": "code",
   "execution_count": 12,
   "metadata": {
    "id": "y8eikhyWvXy0"
   },
   "outputs": [],
   "source": []
  }
 ],
 "metadata": {
  "colab": {
   "name": "Test_Colab.ipynb",
   "provenance": [],
   "toc_visible": true
  },
  "kernelspec": {
   "display_name": "Python 3",
   "language": "python",
   "name": "python3"
  },
  "language_info": {
   "codemirror_mode": {
    "name": "ipython",
    "version": 3
   },
   "file_extension": ".py",
   "mimetype": "text/x-python",
   "name": "python",
   "nbconvert_exporter": "python",
   "pygments_lexer": "ipython3",
   "version": "3.8.8"
  }
 },
 "nbformat": 4,
 "nbformat_minor": 1
}
